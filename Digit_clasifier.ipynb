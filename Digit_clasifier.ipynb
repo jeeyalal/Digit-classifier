{
  "nbformat": 4,
  "nbformat_minor": 0,
  "metadata": {
    "colab": {
      "provenance": [],
      "authorship_tag": "ABX9TyN9EpptDaoe8rNCINJ7TBRo",
      "include_colab_link": true
    },
    "kernelspec": {
      "name": "python3",
      "display_name": "Python 3"
    },
    "language_info": {
      "name": "python"
    }
  },
  "cells": [
    {
      "cell_type": "markdown",
      "metadata": {
        "id": "view-in-github",
        "colab_type": "text"
      },
      "source": [
        "<a href=\"https://colab.research.google.com/github/jeeyalal/Digit-classifier/blob/main/Digit_clasifier.ipynb\" target=\"_parent\"><img src=\"https://colab.research.google.com/assets/colab-badge.svg\" alt=\"Open In Colab\"/></a>"
      ]
    },
    {
      "cell_type": "code",
      "execution_count": null,
      "metadata": {
        "colab": {
          "base_uri": "https://localhost:8080/"
        },
        "id": "36re7P4KRbos",
        "outputId": "04d8c70e-059a-4e2c-8d06-65a08d98c768"
      },
      "outputs": [
        {
          "output_type": "stream",
          "name": "stdout",
          "text": [
            "[[ 0.  0.  5. ...  0.  0.  0.]\n",
            " [ 0.  0.  0. ... 10.  0.  0.]\n",
            " [ 0.  0.  0. ... 16.  9.  0.]\n",
            " ...\n",
            " [ 0.  0.  1. ...  6.  0.  0.]\n",
            " [ 0.  0.  2. ... 12.  0.  0.]\n",
            " [ 0.  0. 10. ... 12.  1.  0.]]\n",
            "[0 1 2 ... 8 9 8]\n",
            "(1797, 64)\n",
            "(1797, 8, 8)\n",
            "1797\n"
          ]
        },
        {
          "output_type": "display_data",
          "data": {
            "text/plain": [
              "<Figure size 432x288 with 0 Axes>"
            ]
          },
          "metadata": {}
        },
        {
          "output_type": "display_data",
          "data": {
            "text/plain": [
              "<Figure size 288x288 with 1 Axes>"
            ],
            "image/png": "[encoded data removed]"
          },
          "metadata": {
            "needs_background": "light"
          }
        },
        {
          "output_type": "stream",
          "name": "stdout",
          "text": [
            "(1347, 64)\n",
            "(450, 64)\n",
            "[5]\n",
            "\n",
            "\n"
          ]
        },
        {
          "output_type": "display_data",
          "data": {
            "text/plain": [
              "<Figure size 432x288 with 1 Axes>"
            ],
            "image/png": "[encoded data removed]"
          },
          "metadata": {
            "needs_background": "light"
          }
        },
        {
          "output_type": "stream",
          "name": "stdout",
          "text": [
            "accuracy of the model: 99.11111111111111%\n"
          ]
        }
      ],
      "source": [
        "import numpy as np\n",
        "from sklearn.datasets import load_digits\n",
        "\n",
        "\"\"\"choose dataset file from local directory\"\"\"\n",
        "\n",
        "dataset = load_digits()\n",
        "\n",
        "\"\"\"reading data into single variable 'dataset'\n",
        "\n",
        "summarizing dataset\n",
        "\"\"\"\n",
        "\n",
        "print(dataset.data)\n",
        "print(dataset.target)\n",
        "\n",
        "print(dataset.data.shape)\n",
        "print(dataset.images.shape)\n",
        "\n",
        "dataimageLength = len(dataset.images)\n",
        "print(dataimageLength)\n",
        "\n",
        "\"\"\"visulaze the dataset\"\"\"\n",
        "\n",
        "n=500\n",
        "\n",
        "import matplotlib.pyplot as plt\n",
        "plt.gray()\n",
        "plt.matshow(dataset.images[n])\n",
        "plt.show()\n",
        "\n",
        "dataset.images[n]\n",
        "\n",
        "\"\"\"segrigating data into input(i.e. pixel) and output (i.e. class)\"\"\"\n",
        "\n",
        "x=dataset.images.reshape((dataimageLength,-1))\n",
        "x\n",
        "\n",
        "y=dataset.target\n",
        "y\n",
        "\n",
        "\"\"\"splitting the dataset into train and test\"\"\"\n",
        "\n",
        "from sklearn.model_selection import train_test_split\n",
        "x_train, x_test, y_train, y_test = train_test_split(x,y,test_size=0.25,random_state=0)\n",
        "print(x_train.shape)\n",
        "print(x_test.shape)\n",
        "\n",
        "\"\"\"training\"\"\"\n",
        "\n",
        "from sklearn import svm\n",
        "model = svm.SVC()\n",
        "model.fit(x_train,y_train)\n",
        "\n",
        "\"\"\"predictiing what the digit is from test data\"\"\"\n",
        "\n",
        "n=1010\n",
        "result=model.predict(dataset.images[n].reshape((1,-1)))\n",
        "plt.imshow(dataset.images[n], cmap=plt.cm.gray_r, interpolation='nearest')\n",
        "print(result)\n",
        "print(\"\\n\")\n",
        "plt.axis('off')\n",
        "plt.title('%i' %result)\n",
        "plt.show()\n",
        "\n",
        "\"\"\"predict for test data\"\"\"\n",
        "\n",
        "y_pred=model.predict(x_test)\n",
        "#print(np.concatenate((y_pred.reshape(len(y_pred),1), y_test.reshape(len(y_test),1)),1))\n",
        "\n",
        "\"\"\"evaluatemodel accuracy\"\"\"\n",
        "\n",
        "from sklearn.metrics import accuracy_score\n",
        "\n",
        "print(\"accuracy of the model: {0}%\".format(accuracy_score(y_test, y_pred)*100))"
      ]
    },
    {
      "cell_type": "code",
      "source": [],
      "metadata": {
        "id": "xKuIToRcRncV"
      },
      "execution_count": null,
      "outputs": []
    }
  ]
}